{
 "cells": [
  {
   "cell_type": "code",
   "execution_count": 1,
   "metadata": {},
   "outputs": [
    {
     "name": "stdout",
     "output_type": "stream",
     "text": [
      "   BoxOffice Irank    MovieName boxPer movieDay sumBoxOffice  \\\n",
      "0    2300.58     1         敦刻尔克  43.51        4     22042.83   \n",
      "1     879.43     2          战狼2  16.63       40    557590.49   \n",
      "2     580.11     3    星际特工：千星之城  10.97       11     38781.47   \n",
      "3     541.08     4           银魂  10.23        4      6625.31   \n",
      "4     279.48     5       杀破狼·贪狼   5.29       19     50641.59   \n",
      "5     264.81     6         黑白迷宫   5.01        5      2569.37   \n",
      "6     100.98     7  赛车总动员3：极速挑战   1.91       11     12801.15   \n",
      "7      82.31     8         二次初恋   1.56        5      2252.22   \n",
      "8      64.88     9         极盗车神   1.23       11     10639.67   \n",
      "9      63.43    10      十万个冷笑话2   1.20       18     13071.99   \n",
      "10    130.89    11           其它   1.00        0         0.00   \n",
      "\n",
      "                   time  \n",
      "0   2017-09-04 22:30:52  \n",
      "1   2017-09-04 22:30:52  \n",
      "2   2017-09-04 22:30:52  \n",
      "3   2017-09-04 22:30:52  \n",
      "4   2017-09-04 22:30:52  \n",
      "5   2017-09-04 22:30:52  \n",
      "6   2017-09-04 22:30:52  \n",
      "7   2017-09-04 22:30:52  \n",
      "8   2017-09-04 22:30:52  \n",
      "9   2017-09-04 22:30:52  \n",
      "10  2017-09-04 22:30:52  \n"
     ]
    }
   ],
   "source": [
    "import tushare as ts\n",
    "df = ts.realtime_boxoffice()\n",
    "print(df)"
   ]
  },
  {
   "cell_type": "code",
   "execution_count": null,
   "metadata": {
    "collapsed": true
   },
   "outputs": [],
   "source": [
    ""
   ]
  }
 ],
 "metadata": {
  "kernelspec": {
   "display_name": "Python 3",
   "language": "python",
   "name": "python3"
  },
  "language_info": {
   "codemirror_mode": {
    "name": "ipython",
    "version": 3.0
   },
   "file_extension": ".py",
   "mimetype": "text/x-python",
   "name": "python",
   "nbconvert_exporter": "python",
   "pygments_lexer": "ipython3",
   "version": "3.6.1"
  }
 },
 "nbformat": 4,
 "nbformat_minor": 0
}