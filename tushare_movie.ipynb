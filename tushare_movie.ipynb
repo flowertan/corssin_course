{
 "cells": [
  {
   "cell_type": "code",
   "execution_count": 4,
   "metadata": {
    "collapsed": true
   },
   "outputs": [],
   "source": [
    "from matplotlib.font_manager import FontProperties\n",
    "import matplotlib.pyplot as plt\n",
    "import numpy as np\n",
    "import tushare as ts\n",
    "import datetime\n"
   ]
  },
  {
   "cell_type": "code",
   "execution_count": 5,
   "metadata": {},
   "outputs": [
    {
     "data": {
      "text/html": [
       "<div>\n",
       "<style>\n",
       "    .dataframe thead tr:only-child th {\n",
       "        text-align: right;\n",
       "    }\n",
       "\n",
       "    .dataframe thead th {\n",
       "        text-align: left;\n",
       "    }\n",
       "\n",
       "    .dataframe tbody tr th {\n",
       "        vertical-align: top;\n",
       "    }\n",
       "</style>\n",
       "<table border=\"1\" class=\"dataframe\">\n",
       "  <thead>\n",
       "    <tr style=\"text-align: right;\">\n",
       "      <th></th>\n",
       "      <th>Irank</th>\n",
       "      <th>MovieName</th>\n",
       "      <th>WomIndex</th>\n",
       "      <th>avgboxoffice</th>\n",
       "      <th>avgshowcount</th>\n",
       "      <th>box_pro</th>\n",
       "      <th>boxoffice</th>\n",
       "      <th>days</th>\n",
       "      <th>releaseTime</th>\n",
       "    </tr>\n",
       "  </thead>\n",
       "  <tbody>\n",
       "    <tr>\n",
       "      <th>0</th>\n",
       "      <td>1</td>\n",
       "      <td>蜘蛛侠：英雄归来</td>\n",
       "      <td></td>\n",
       "      <td>35</td>\n",
       "      <td>19</td>\n",
       "      <td>35.5</td>\n",
       "      <td>65346</td>\n",
       "      <td>23</td>\n",
       "      <td>2017-09-08</td>\n",
       "    </tr>\n",
       "    <tr>\n",
       "      <th>1</th>\n",
       "      <td>2</td>\n",
       "      <td>敦刻尔克</td>\n",
       "      <td></td>\n",
       "      <td>34</td>\n",
       "      <td>12</td>\n",
       "      <td>17.8</td>\n",
       "      <td>32747</td>\n",
       "      <td>30</td>\n",
       "      <td>2017-09-01</td>\n",
       "    </tr>\n",
       "    <tr>\n",
       "      <th>2</th>\n",
       "      <td>3</td>\n",
       "      <td>猩球崛起3：终极之战</td>\n",
       "      <td></td>\n",
       "      <td>35</td>\n",
       "      <td>36</td>\n",
       "      <td>15.6</td>\n",
       "      <td>28719</td>\n",
       "      <td>16</td>\n",
       "      <td>2017-09-15</td>\n",
       "    </tr>\n",
       "  </tbody>\n",
       "</table>\n",
       "</div>"
      ],
      "text/plain": [
       "  Irank   MovieName WomIndex avgboxoffice avgshowcount box_pro boxoffice days  \\\n",
       "0     1    蜘蛛侠：英雄归来                    35           19    35.5     65346   23   \n",
       "1     2        敦刻尔克                    34           12    17.8     32747   30   \n",
       "2     3  猩球崛起3：终极之战                    35           36    15.6     28719   16   \n",
       "\n",
       "  releaseTime  \n",
       "0  2017-09-08  \n",
       "1  2017-09-01  \n",
       "2  2017-09-15  "
      ]
     },
     "execution_count": 5,
     "metadata": {},
     "output_type": "execute_result"
    }
   ],
   "source": [
    "today = datetime.date.today()\n",
    "today_display = str(today)\n",
    "month = today_display[:7]\n",
    "movie = ts.month_boxoffice(month)\n",
    "top_three = movie.head(3)\n",
    "top_three"
   ]
  },
  {
   "cell_type": "code",
   "execution_count": 6,
   "metadata": {},
   "outputs": [
    {
     "data": {
      "text/plain": [
       "'2017-09'"
      ]
     },
     "execution_count": 6,
     "metadata": {},
     "output_type": "execute_result"
    }
   ],
   "source": [
    "month\n"
   ]
  },
  {
   "cell_type": "code",
   "execution_count": 7,
   "metadata": {},
   "outputs": [
    {
     "data": {
      "text/plain": [
       "'2017-09-17'"
      ]
     },
     "execution_count": 7,
     "metadata": {},
     "output_type": "execute_result"
    }
   ],
   "source": [
    "today_display"
   ]
  },
  {
   "cell_type": "code",
   "execution_count": 26,
   "metadata": {},
   "outputs": [
    {
     "data": {
      "text/plain": [
       "{'敦刻尔克': [], '猩球崛起3：终极之战': [], '蜘蛛侠：英雄归来': []}"
      ]
     },
     "execution_count": 26,
     "metadata": {},
     "output_type": "execute_result"
    }
   ],
   "source": [
    "movie_names = list(top_three['MovieName'])\n",
    "\n",
    "#用于保存获取到的电影的票房信息\n",
    "boxoffice_record = {}\n",
    "for i in range(3):\n",
    "    boxoffice_record[movie_names[i]] = []\n",
    "boxoffice_record"
   ]
  },
  {
   "cell_type": "code",
   "execution_count": 27,
   "metadata": {
    "scrolled": true
   },
   "outputs": [
    {
     "name": "stdout",
     "output_type": "stream",
     "text": [
      "2017-09-10\n",
      "2017-09-11\n",
      "2017-09-12\n",
      "2017-09-13\n",
      "2017-09-14\n",
      "2017-09-15\n",
      "2017-09-16\n"
     ]
    },
    {
     "data": {
      "text/plain": [
       "array([[  4146.,   3379.,   2807.,   2351.,   2034.,   4445.,   1980.],\n",
       "       [   489.,    464.,    424.,    398.,    156.,    308.,    163.],\n",
       "       [     0.,      0.,      0.,    930.,  12290.,  15553.,   5735.]])"
      ]
     },
     "execution_count": 27,
     "metadata": {},
     "output_type": "execute_result"
    }
   ],
   "source": [
    "date_record = []\n",
    "for i in range(7):\n",
    "    current = str(today + datetime.timedelta(days=i) - datetime.timedelta(days=7))\n",
    "    print(current)\n",
    "    date_record.append(current)\n",
    "    single_day_boxoffice = ts.day_boxoffice(current)\n",
    "    for j in range(len(movie_names)):\n",
    "        movie_boxoffice = boxoffice_record[movie_names[j]]\n",
    "        top3_movie = single_day_boxoffice[single_day_boxoffice['MovieName'] == movie_names[j]]\n",
    "        if top3_movie.empty:\n",
    "            movie_boxoffice.append(0)\n",
    "        else:\n",
    "            movie_boxoffice.append(float(top3_movie['BoxOffice']))\n",
    "days = np.arange(7)\n",
    "boxoffices = np.array((boxoffice_record[movie_names[0]], boxoffice_record[movie_names[1]], \n",
    "boxoffice_record[movie_names[2]]))\n",
    "boxoffices"
   ]
  },
  {
   "cell_type": "code",
   "execution_count": 34,
   "metadata": {},
   "outputs": [
    {
     "data": {
      "image/png": "[encoded data removed]",
      "text/plain": [
       "<matplotlib.figure.Figure at 0xcc13e10>"
      ]
     },
     "metadata": {},
     "output_type": "display_data"
    }
   ],
   "source": [
    "font = FontProperties(fname=\"simfang.ttf\", size=14)\n",
    "fig = plt.figure(figsize=(10, 6))\n",
    "plt.plot(days, boxoffices[0], color='black', linestyle='-', linewidth=2.5, label=movie_names[0])\n",
    "plt.plot(days, boxoffices[1], color='blue', linestyle='-', linewidth=2.5, label=movie_names[1])\n",
    "plt.plot(days, boxoffices[2], color='red', linestyle='-', linewidth=2.5, label=movie_names[2])\n",
    "plt.legend(loc='upper left', prop=font)\n",
    "plt.title('%s票房top3电影近7日走势' % month, fontproperties=font)\n",
    "plt.xlabel(u'日期', fontproperties=font)\n",
    "plt.ylabel(u'单日票房', fontproperties=font)\n",
    "plt.xticks(days, date_record)\n",
    "plt.show()"
   ]
  },
  {
   "cell_type": "code",
   "execution_count": null,
   "metadata": {
    "collapsed": true
   },
   "outputs": [],
   "source": []
  }
 ],
 "metadata": {
  "kernelspec": {
   "display_name": "Python 3",
   "language": "python",
   "name": "python3"
  },
  "language_info": {
   "codemirror_mode": {
    "name": "ipython",
    "version": 3
   },
   "file_extension": ".py",
   "mimetype": "text/x-python",
   "name": "python",
   "nbconvert_exporter": "python",
   "pygments_lexer": "ipython3",
   "version": "3.6.1"
  }
 },
 "nbformat": 4,
 "nbformat_minor": 2
}
